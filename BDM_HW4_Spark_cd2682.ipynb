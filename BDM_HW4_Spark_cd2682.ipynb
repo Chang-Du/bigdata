{
 "cells": [
  {
   "cell_type": "markdown",
   "metadata": {},
   "source": [
    "# Homework 4 - Spark\n",
    "\n",
    "In this homework, we are practicing Apache Spark.\n",
    "\n",
    "You are required to turn in this notebook as BDM\\_HW4\\_Spark\\_**NetId**.ipynb. You will be asked to complete each task using Apache Spark. Output can be printed in the notebook."
   ]
  },
  {
   "cell_type": "markdown",
   "metadata": {},
   "source": [
    "## Task 1 (5 points)\n",
    "\n",
    "You are asked to implement Homework 3 using Spark. The description is provided below for your convenience.\n",
    "\n",
    "You are asked to implement the Social Triangle example discussed in class. In particular, given the email dataset, please list all \"reciprocal\" relationships in the company. Recall that:\n",
    "\n",
    "If A emails B and B emails A, then A and B is *reciprocal*.\n",
    "\n",
    "If A emails B but B doesn’t email A, then A and B is *directed*.\n",
    "\n",
    "**Dataset:** We will use a subset of the open [Enron Email Dataset](https://www.cs.cmu.edu/~./enron/ \"Enron Email Dataset\"), which contains approximately 10,000 simplified email headers from the Enron Corporation. You can download this dataset from NYU Classes as **enron_mails_small.csv**. The file contains 3 columns *Date*, *From*, and *To*. Their description is as follows:\n",
    "\n",
    "|Column name|Description|\n",
    "|--|--|\n",
    "|Date |The date and time of the email, in the format YYYY-MM-DD hh-mm-ss, <br />e.g. \"1998-10-30 07:43:00\" |\n",
    "|From |The sender email address, <br />e.g. \"mark.taylor@enron.com\" |\n",
    "|To | A list of recipients' email addresses separated by semicolons ';', <br />e.g. \"jennifer.fraser@enron.com;jeffrey.hodge@enron.com\" |\n",
    "\n",
    "Note that, we only care about users employed by Enron, or only relationships having email addresses that end with *'@enron.com'*.\n",
    "\n",
    "The expected output is also provided below. For each reciprocal relationship, please output a tuple consisting of two strings. The first one is always **'reciprocal'**. And the second one is a string showing the name of the two person in the following format: **'Jane Doe : John Doe'**. The names should be presented in the lexical order, i.e. there will not be a 'John Doe : Jane Doe' since 'Jane' is ordered before 'John.\n",
    "\n",
    "Though the dataset only contains email addresses, not actual names, we're assuming that the email aliases were created based on their name. For example:\n",
    "\n",
    "|Email Address|Converted Name|\n",
    "|--|--|\n",
    "|mark.taylor@enron.com|Mark Taylor|\n",
    "|alan.aronowitz@enron.com|Alan Aronowitz|\n",
    "|marc.r.cutler@enron.com|Marc R Cutler|\n",
    "|hugh@enron.com|Hugh|\n",
    "\n",
    "Please fill the code block with a series of MapReduce jobs using your own mapper and reducer functions. Be sure to include the naming convention logic into one of your mappers and/or reducers."
   ]
  },
  {
   "cell_type": "code",
   "execution_count": 1,
   "metadata": {},
   "outputs": [
    {
     "data": {
      "text/html": [
       "\n",
       "        <div>\n",
       "            <p><b>SparkContext</b></p>\n",
       "\n",
       "            <p><a href=\"http://10-18-226-199.dynapool.wireless.nyu.edu:4040\">Spark UI</a></p>\n",
       "\n",
       "            <dl>\n",
       "              <dt>Version</dt>\n",
       "                <dd><code>v2.4.0</code></dd>\n",
       "              <dt>Master</dt>\n",
       "                <dd><code>local[*]</code></dd>\n",
       "              <dt>AppName</dt>\n",
       "                <dd><code>PySparkShell</code></dd>\n",
       "            </dl>\n",
       "        </div>\n",
       "        "
      ],
      "text/plain": [
       "<SparkContext master=local[*] appName=PySparkShell>"
      ]
     },
     "execution_count": 1,
     "metadata": {},
     "output_type": "execute_result"
    }
   ],
   "source": [
    "sc"
   ]
  },
  {
   "cell_type": "code",
   "execution_count": 2,
   "metadata": {},
   "outputs": [],
   "source": [
    "MAILS_FN = 'enron_mails_small.csv'"
   ]
  },
  {
   "cell_type": "code",
   "execution_count": 3,
   "metadata": {},
   "outputs": [],
   "source": [
    "mails = sc.textFile(MAILS_FN, use_unicode=True).cache() "
   ]
  },
  {
   "cell_type": "code",
   "execution_count": 4,
   "metadata": {},
   "outputs": [],
   "source": [
    "def extractName(partitionId, row):\n",
    "    if partitionId == 0:\n",
    "        next(row)\n",
    "    import csv\n",
    "    reader = csv.reader(row)\n",
    "    for row in reader:\n",
    "        for i in row[2].split(';'):\n",
    "            if i.split('@')[1] == 'enron.com' and row[1].split('@')[1] == 'enron.com':\n",
    "                \n",
    "                # extract the from_name\n",
    "                for j in range(len(row[1].split('@')[0].split('.'))):\n",
    "                    if len(row[1].split('@')[0].split('.')) == 1:\n",
    "                        from_name = row[1].split('@')[0].split('.').capitalize()\n",
    "                    elif len(row[1].split('@')[0].split('.')) == 2:\n",
    "                        from_name = row[1].split('@')[0].split('.')[0].capitalize() +\" \"+  row[1].split('@')[0].split('.')[1].capitalize()\n",
    "                    else:\n",
    "                        from_name = row[1].split('@')[0].split('.')[0].capitalize() +\" \"+  row[1].split('@')[0].split('.')[1].capitalize() + row[1].split('@')[0].split('.')[2].capitalize()\n",
    "\n",
    "                # extract the to_name        \n",
    "                for k in range(len(i.split('@')[0].split('.'))):\n",
    "                    if len(i.split('@')[0].split('.')) == 1:\n",
    "                        to_name = i.split('@')[0].split('.')[0].capitalize()\n",
    "                    elif len(i.split('@')[0].split('.')) == 2:\n",
    "                        to_name = i.split('@')[0].split('.')[0].capitalize() +\" \"+ i.split('@')[0].split('.')[1].capitalize()\n",
    "                    else:\n",
    "                        to_name = i.split('@')[0].split('.')[0].capitalize() +\" \"+ i.split('@')[0].split('.')[1].capitalize()+\" \"+ i.split('@')[0].split('.')[2].capitalize()\n",
    "              \n",
    "                # sort each pair of from_name and to_name and give them a number 0 or 1\n",
    "                if from_name < to_name:\n",
    "                    yield ((from_name, to_name), 0)\n",
    "                else:\n",
    "                    yield ((to_name, from_name), 1)"
   ]
  },
  {
   "cell_type": "code",
   "execution_count": 5,
   "metadata": {},
   "outputs": [
    {
     "name": "stdout",
     "output_type": "stream",
     "text": [
      "35\n"
     ]
    },
    {
     "data": {
      "text/plain": [
       "[('recipropcal', 'Brenda Whitehead : Elizabeth Sager'),\n",
       " ('recipropcal', 'Carol Clair : Debra Perlingiere'),\n",
       " ('recipropcal', 'Carol Clair : Mark Taylor'),\n",
       " ('recipropcal', 'Carol Clair : Richard Sanders'),\n",
       " ('recipropcal', 'Carol Clair : Sara Shackleton'),\n",
       " ('recipropcal', 'Carol Clair : Tana Jones'),\n",
       " ('recipropcal', 'Debra Perlingiere : Kevin Ruscitti'),\n",
       " ('recipropcal', 'Drew Fossum : Susan Scott'),\n",
       " ('recipropcal', 'Elizabeth Sager : Janette Elbertson'),\n",
       " ('recipropcal', 'Elizabeth Sager : Mark Haedicke'),\n",
       " ('recipropcal', 'Elizabeth Sager : Mark Taylor'),\n",
       " ('recipropcal', 'Elizabeth Sager : Richard Sanders'),\n",
       " ('recipropcal', 'Eric Bass : Susan Scott'),\n",
       " ('recipropcal', 'Fletcher Sturm : Greg Whalley'),\n",
       " ('recipropcal', 'Fletcher Sturm : Sally Beck'),\n",
       " ('recipropcal', 'Gerald Nemec : Susan Scott'),\n",
       " ('recipropcal', 'Grant Masson : Vince Kaminski'),\n",
       " ('recipropcal', 'Greg Whalley : Richard Sanders'),\n",
       " ('recipropcal', 'Janette Elbertson : Mark Taylor'),\n",
       " ('recipropcal', 'Janette Elbertson : Richard Sanders'),\n",
       " ('recipropcal', 'Liz Taylor : Mark Haedicke'),\n",
       " ('recipropcal', 'Mark Haedicke : Mark Taylor'),\n",
       " ('recipropcal', 'Mark Haedicke : Michelle Cash'),\n",
       " ('recipropcal', 'Mark Haedicke : Richard Sanders'),\n",
       " ('recipropcal', 'Mark Haedicke : Twanda Sweet'),\n",
       " ('recipropcal', 'Mark Taylor : Sara Shackleton'),\n",
       " ('recipropcal', 'Mark Taylor : Tana Jones'),\n",
       " ('recipropcal', 'Michelle Cash : Twanda Sweet'),\n",
       " ('recipropcal', 'Pinnamaneni Krishnarao : Vince Kaminski'),\n",
       " ('recipropcal', 'Richard Sanders : Sara Shackleton'),\n",
       " ('recipropcal', 'Rosalee Fleming : Steven Kean'),\n",
       " ('recipropcal', 'Sara Shackleton : Tana Jones'),\n",
       " ('recipropcal', 'Shirley Crenshaw : Vince Kaminski'),\n",
       " ('recipropcal', 'Stinson Gibner : Vince Kaminski'),\n",
       " ('recipropcal', 'Vasant Shanbhogue : Vince Kaminski')]"
      ]
     },
     "execution_count": 5,
     "metadata": {},
     "output_type": "execute_result"
    }
   ],
   "source": [
    "result = mails.mapPartitionsWithIndex(extractName).groupByKey() \\\n",
    "    .filter(lambda x : (len(set(x[1]))==2)) \\\n",
    "    .sortByKey()\\\n",
    "    .map(lambda x: ('recipropcal', '%s : %s' % (x[0][0], x[0][1]))) \\\n",
    "    .collect()\n",
    "\n",
    "# groupByKey: (sorted(from_name,to_name), list(0,1,....))\n",
    "# filter: if x[1] has 0 and 1, it means this pair of names are recipropal\n",
    "# sortByKey(): sort the result of pairs of names\n",
    "\n",
    "print(len(result))\n",
    "result"
   ]
  },
  {
   "cell_type": "markdown",
   "metadata": {},
   "source": [
    "## Task 2 (5 points)\n",
    "\n",
    "You are asked to implement Task 2 of Lab 5. The description is provided below for your convenience.\n",
    "\n",
    "We’ll be using two NYC open data sets: the SAT Results and the NYC High School Directory data sets. Both can be downloaded from the links below, or from online class resources.\n",
    "\n",
    "**Dataset**: *Please note that each school is uniquely identified by an DBN code, which should be found on both data sets.*\n",
    "\n",
    "**SAT_Results.csv**\n",
    "Source: https://nycopendata.socrata.com/Education/SAT-Results/f9bf-2cp4  \n",
    "Description: “The most recent school level results for New York City on the SAT. Results are available at the school level for the graduating seniors of 2012.”\n",
    "\n",
    "**DOE_High_School_Directory_2014-2015.csv**\n",
    "Source: https://data.cityofnewyork.us/Education/DOE-High-School-Directory-2014-2015/n3p6-zve2  \n",
    "Description: “Directory of NYC High Schools.”\n",
    "\n",
    "We would like to know how the Math scores vary across bus lines or subway lines serving the schools. Your task is to compute the average Math scores of all schools along each bus line and subway line. You can find the bus and subway lines serving each school in the High School Dictionary as bus and subway columns.\n",
    "\n",
    "The expected results are two lists:\n",
    "1. A list of key/value pairs: with bus line as keys, and the average Math scores as values.\n",
    "2. A list of key/value pairs: with subway line as keys, and the average Math scores as values.\n",
    "\n",
    "The top ten lines with highest score are shown below."
   ]
  },
  {
   "cell_type": "code",
   "execution_count": 6,
   "metadata": {},
   "outputs": [],
   "source": [
    "SAT_FN = 'SAT_Results.csv'\n",
    "HSD_FN = 'DOE_High_School_Directory_2014-2015.csv'"
   ]
  },
  {
   "cell_type": "code",
   "execution_count": 7,
   "metadata": {},
   "outputs": [
    {
     "data": {
      "text/plain": [
       "[(0, 'DBN'),\n",
       " (1, 'SCHOOL NAME'),\n",
       " (2, 'Num of SAT Test Takers'),\n",
       " (3, 'SAT Critical Reading Avg. Score'),\n",
       " (4, 'SAT Math Avg. Score'),\n",
       " (5, 'SAT Writing Avg. Score')]"
      ]
     },
     "execution_count": 7,
     "metadata": {},
     "output_type": "execute_result"
    }
   ],
   "source": [
    "sat = sc.textFile(SAT_FN, use_unicode=True).cache()\n",
    "list(enumerate(sat.first().split(','))) # the column names"
   ]
  },
  {
   "cell_type": "code",
   "execution_count": 8,
   "metadata": {},
   "outputs": [
    {
     "data": {
      "text/plain": [
       "[('02M047', (400, 16)),\n",
       " ('21K410', (437, 475)),\n",
       " ('30Q301', (440, 98)),\n",
       " ('17K382', (374, 59)),\n",
       " ('18K637', (381, 35))]"
      ]
     },
     "execution_count": 8,
     "metadata": {},
     "output_type": "execute_result"
    }
   ],
   "source": [
    "def extractScore(partitionId, rows):\n",
    "    if partitionId==0:\n",
    "        next(rows)\n",
    "    import csv\n",
    "    reader = csv.reader(rows)\n",
    "    for fields in reader:\n",
    "        if fields[2]!='s':      # the null in data is 's'\n",
    "            yield (fields[0], (int(fields[4]), int(fields[2])))\n",
    "\n",
    "satScores = sat.mapPartitionsWithIndex(extractScore)\n",
    "satScores.take(5)"
   ]
  },
  {
   "cell_type": "code",
   "execution_count": 9,
   "metadata": {},
   "outputs": [
    {
     "data": {
      "text/plain": [
       "[(0, 'dbn'),\n",
       " (1, 'school_name'),\n",
       " (2, 'boro'),\n",
       " (3, 'building_code'),\n",
       " (4, 'phone_number'),\n",
       " (5, 'fax_number'),\n",
       " (6, 'grade_span_min'),\n",
       " (7, 'grade_span_max'),\n",
       " (8, 'expgrade_span_min'),\n",
       " (9, 'expgrade_span_max'),\n",
       " (10, 'bus'),\n",
       " (11, 'subway'),\n",
       " (12, 'primary_address_line_1'),\n",
       " (13, 'city'),\n",
       " (14, 'state_code'),\n",
       " (15, 'zip'),\n",
       " (16, 'website'),\n",
       " (17, 'total_students'),\n",
       " (18, 'campus_name'),\n",
       " (19, 'school_type'),\n",
       " (20, 'overview_paragraph'),\n",
       " (21, 'program_highlights'),\n",
       " (22, 'language_classes'),\n",
       " (23, 'advancedplacement_courses'),\n",
       " (24, 'online_ap_courses'),\n",
       " (25, 'online_language_courses'),\n",
       " (26, 'extracurricular_activities'),\n",
       " (27, 'psal_sports_boys'),\n",
       " (28, 'psal_sports_girls'),\n",
       " (29, 'psal_sports_coed'),\n",
       " (30, 'school_sports'),\n",
       " (31, 'partner_cbo'),\n",
       " (32, 'partner_hospital'),\n",
       " (33, 'partner_highered'),\n",
       " (34, 'partner_cultural'),\n",
       " (35, 'partner_nonprofit'),\n",
       " (36, 'partner_corporate'),\n",
       " (37, 'partner_financial'),\n",
       " (38, 'partner_other'),\n",
       " (39, 'addtl_info1'),\n",
       " (40, 'addtl_info2'),\n",
       " (41, 'start_time'),\n",
       " (42, 'end_time'),\n",
       " (43, 'se_services'),\n",
       " (44, 'ell_programs'),\n",
       " (45, 'school_accessibility_description'),\n",
       " (46, 'number_programs'),\n",
       " (47, 'priority01'),\n",
       " (48, 'priority02'),\n",
       " (49, 'priority03'),\n",
       " (50, 'priority04'),\n",
       " (51, 'priority05'),\n",
       " (52, 'priority06'),\n",
       " (53, 'priority07'),\n",
       " (54, 'priority08'),\n",
       " (55, 'priority09'),\n",
       " (56, 'priority10'),\n",
       " (57, 'Location 1')]"
      ]
     },
     "execution_count": 9,
     "metadata": {},
     "output_type": "execute_result"
    }
   ],
   "source": [
    "schools = sc.textFile(HSD_FN, use_unicode=True).cache()\n",
    "list(enumerate(schools.first().split(',')))"
   ]
  },
  {
   "cell_type": "code",
   "execution_count": 10,
   "metadata": {},
   "outputs": [
    {
     "data": {
      "text/plain": [
       "[('01M292', 'B39'),\n",
       " ('01M292', 'M14A'),\n",
       " ('01M292', 'M14D'),\n",
       " ('01M292', 'M15'),\n",
       " ('01M292', 'M15-SBS'),\n",
       " ('01M292', 'M21'),\n",
       " ('01M292', 'M22'),\n",
       " ('01M292', 'M9'),\n",
       " ('01M448', 'M14A'),\n",
       " ('01M448', 'M14D')]"
      ]
     },
     "execution_count": 10,
     "metadata": {},
     "output_type": "execute_result"
    }
   ],
   "source": [
    "# Bus\n",
    "def extractSchool_bus(partitionId, rows):\n",
    "    if partitionId == 0:\n",
    "        next(rows)\n",
    "    import csv\n",
    "    reader = csv.reader(rows)\n",
    "    for fields in reader:\n",
    "        if len(fields) == 58 and fields[10] != 'N/A': # there are N/A in the bus and subway columns\n",
    "            for i in range(len(fields[10].split(', '))):\n",
    "                yield(fields[0], fields[10].split(', ')[i])\n",
    "    \n",
    "school_bus = schools.mapPartitionsWithIndex(extractSchool_bus)\n",
    "school_bus.take(10)"
   ]
  },
  {
   "cell_type": "code",
   "execution_count": 14,
   "metadata": {},
   "outputs": [
    {
     "data": {
      "text/plain": [
       "[('S1115', 612),\n",
       " ('M79', 594),\n",
       " ('Q42', 582),\n",
       " ('M22', 574),\n",
       " ('Bx3', 571),\n",
       " ('B52', 560),\n",
       " ('B63', 557),\n",
       " ('B69', 548),\n",
       " ('B54', 543),\n",
       " ('B25', 541),\n",
       " ('M20', 540),\n",
       " ('M9', 539),\n",
       " ('B65', 538),\n",
       " ('M86', 538),\n",
       " ('Bx10', 534),\n",
       " ('B45', 534),\n",
       " ('Bx26', 533),\n",
       " ('B103', 531),\n",
       " ('Q64', 529),\n",
       " ('Bx22', 525),\n",
       " ('M72', 523),\n",
       " ('B41', 520),\n",
       " ('M5', 520),\n",
       " ('B38', 520),\n",
       " ('Q35', 519),\n",
       " ('M66', 518),\n",
       " ('B62', 513),\n",
       " ('Q88', 508),\n",
       " ('Q30', 507),\n",
       " ('Q84', 507),\n",
       " ('Q20A', 505),\n",
       " ('S79-SBS', 505),\n",
       " ('Q31', 504),\n",
       " ('B11', 503),\n",
       " ('M35', 496),\n",
       " ('Q17', 495),\n",
       " ('M10', 495),\n",
       " ('Q28', 492),\n",
       " ('Q13', 492),\n",
       " ('S57', 490),\n",
       " ('M31', 490),\n",
       " ('B9', 489),\n",
       " ('Bx28', 489),\n",
       " ('Q76', 488),\n",
       " ('S74', 486),\n",
       " ('S76', 486),\n",
       " ('S78', 486),\n",
       " ('S55', 486),\n",
       " ('M21', 485),\n",
       " ('M57', 485),\n",
       " ('B8', 485),\n",
       " ('Q85', 485),\n",
       " ('M7', 483),\n",
       " ('Q23', 482),\n",
       " ('Q27', 481),\n",
       " ('Q20B', 481),\n",
       " ('Q60', 479),\n",
       " ('Q4', 479),\n",
       " ('M104', 477),\n",
       " ('M11', 477),\n",
       " ('S56', 476),\n",
       " ('B70', 476),\n",
       " ('M14A', 475),\n",
       " ('B100', 475),\n",
       " ('B31', 475),\n",
       " ('B2', 475),\n",
       " ('S54', 474),\n",
       " ('Q102', 474),\n",
       " ('S59', 473),\n",
       " ('Q25', 473),\n",
       " ('B49', 471),\n",
       " ('M106', 470),\n",
       " ('Bx2', 470),\n",
       " ('M14D', 468),\n",
       " ('M8', 467),\n",
       " ('B6', 467),\n",
       " ('M116', 467),\n",
       " ('Q67', 466),\n",
       " ('Q36', 466),\n",
       " ('Q32', 466),\n",
       " ('B4', 466),\n",
       " ('Q39', 466),\n",
       " ('B44', 465),\n",
       " ('B44-SBS', 465),\n",
       " ('B68', 465),\n",
       " ('Bx1', 464),\n",
       " ('Q65', 464),\n",
       " ('Q101', 464),\n",
       " ('Q9', 462),\n",
       " ('M23', 462),\n",
       " ('Q110', 462),\n",
       " ('B1', 461),\n",
       " ('Q66', 461),\n",
       " ('M15', 459),\n",
       " ('Q3', 456),\n",
       " ('Q38', 456),\n",
       " ('Q5', 456),\n",
       " ('Bx20', 455),\n",
       " ('M102', 455),\n",
       " ('B64', 454)]"
      ]
     },
     "execution_count": 14,
     "metadata": {},
     "output_type": "execute_result"
    }
   ],
   "source": [
    "school_bus.join(satScores).values() \\\n",
    "    .mapValues(lambda x: (x[0]*x[1], x[1])) \\\n",
    "    .reduceByKey(lambda x,y: (x[0]+y[0], x[1]+y[1])) \\\n",
    "    .mapValues(lambda x: int(x[0]/x[1])) \\\n",
    "    .sortBy(lambda x: x[1], ascending=False) \\\n",
    "    .take(100)\n",
    "# print the bus lines with top 10 SAT scores"
   ]
  },
  {
   "cell_type": "code",
   "execution_count": 12,
   "metadata": {},
   "outputs": [
    {
     "data": {
      "text/plain": [
       "[('01M292', 'B'),\n",
       " ('01M292', 'D'),\n",
       " ('01M292', 'F'),\n",
       " ('01M292', 'J'),\n",
       " ('01M292', 'M')]"
      ]
     },
     "execution_count": 12,
     "metadata": {},
     "output_type": "execute_result"
    }
   ],
   "source": [
    "# Subway\n",
    "def extractSchool_subway(partitionId, rows):\n",
    "    if partitionId == 0:\n",
    "        next(rows)\n",
    "    import csv\n",
    "    reader = csv.reader(rows)\n",
    "    for fields in reader:\n",
    "        if len(fields) == 58 and fields[11] != 'N/A':\n",
    "            for i in range(len(fields[11].split('; '))): # split column named subway by ';'\n",
    "                # further split by 'to' and only take the part before 'to'\n",
    "                # then split the part before 'to' by ','\n",
    "                for j in range(len(fields[11].split('; ')[i].split(' to ')[0].split(', '))):\n",
    "                    yield(fields[0], fields[11].split('; ')[i].split(' to ')[0].split(', ')[j])\n",
    "                    \n",
    "school_subway = schools.mapPartitionsWithIndex(extractSchool_subway)\n",
    "school_subway.take(5)"
   ]
  },
  {
   "cell_type": "code",
   "execution_count": 13,
   "metadata": {},
   "outputs": [
    {
     "data": {
      "text/plain": [
       "[('3', 513),\n",
       " ('A', 510),\n",
       " ('C', 510),\n",
       " ('R', 508),\n",
       " ('G', 503),\n",
       " ('D', 502),\n",
       " ('E', 501),\n",
       " ('1', 499),\n",
       " ('SIR', 498),\n",
       " ('4', 495)]"
      ]
     },
     "execution_count": 13,
     "metadata": {},
     "output_type": "execute_result"
    }
   ],
   "source": [
    "school_subway.join(satScores).values() \\\n",
    "    .mapValues(lambda x: (x[0]*x[1], x[1])) \\\n",
    "    .reduceByKey(lambda x,y: (x[0]+y[0], x[1]+y[1])) \\\n",
    "    .mapValues(lambda x: int(x[0]/x[1])) \\\n",
    "    .sortBy(lambda x: x[1], ascending=False) \\\n",
    "    .take(10)\n",
    "# print the subway lines with top 10 SAT scores"
   ]
  },
  {
   "cell_type": "code",
   "execution_count": null,
   "metadata": {},
   "outputs": [],
   "source": []
  }
 ],
 "metadata": {
  "kernelspec": {
   "display_name": "Python 3",
   "language": "python",
   "name": "python3"
  },
  "language_info": {
   "codemirror_mode": {
    "name": "ipython",
    "version": 3
   },
   "file_extension": ".py",
   "mimetype": "text/x-python",
   "name": "python",
   "nbconvert_exporter": "python",
   "pygments_lexer": "ipython3",
   "version": "3.6.5"
  }
 },
 "nbformat": 4,
 "nbformat_minor": 1
}
